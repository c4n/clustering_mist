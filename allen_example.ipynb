{
 "cells": [
  {
   "cell_type": "code",
   "execution_count": 8,
   "metadata": {
    "scrolled": true
   },
   "outputs": [],
   "source": [
    "# !pip uninstall allennlp -y\n",
    "# !pip uninstall allennlp-models -y\n",
    "\n",
    "# !pip install allennlp==2.4.0\n",
    "# !pip install allennlp-models==2.4.0\n",
    "\n",
    "# !pip install allennlp\n",
    "# !pip install allennlp-models"
   ]
  },
  {
   "cell_type": "code",
   "execution_count": 9,
   "metadata": {},
   "outputs": [],
   "source": [
    "# !pip install -U spacy\n",
    "# !python -m spacy validate"
   ]
  },
  {
   "cell_type": "code",
   "execution_count": 20,
   "metadata": {},
   "outputs": [
    {
     "data": {
      "text/plain": [
       "{'logits': [4.572181224822998, -4.596452713012695],\n",
       " 'probs': [0.9998956918716431, 0.000104247905255761],\n",
       " 'token_ids': [0, 102, 182, 157, 12, 7078, 6, 6269, 8, 11110, 2170, 4, 2],\n",
       " 'label': '1',\n",
       " 'tokens': ['<s>',\n",
       "  'a',\n",
       "  'Ġvery',\n",
       "  'Ġwell',\n",
       "  '-',\n",
       "  'made',\n",
       "  ',',\n",
       "  'Ġfunny',\n",
       "  'Ġand',\n",
       "  'Ġentertaining',\n",
       "  'Ġpicture',\n",
       "  '.',\n",
       "  '</s>']}"
      ]
     },
     "execution_count": 20,
     "metadata": {},
     "output_type": "execute_result"
    }
   ],
   "source": [
    "from allennlp.predictors.predictor import Predictor\n",
    "import allennlp_models.tagging\n",
    "\n",
    "predictor = Predictor.from_path(\"https://storage.googleapis.com/allennlp-public-models/stanford-sentiment-treebank-roberta.2021-03-11.tar.gz\")\n",
    "predictor.predict(\"a very well-made, funny and entertaining picture.\")"
   ]
  },
  {
   "cell_type": "code",
   "execution_count": 26,
   "metadata": {},
   "outputs": [],
   "source": [
    "from allennlp.interpret.saliency_interpreters import SimpleGradient \n",
    "simple_grad = SimpleGradient(predictor)\n",
    "input_json = {'sentence' : \"a very well-made, funny and entertaining picture.\"}\n",
    "score = simple_grad.saliency_interpret_from_json(input_json)"
   ]
  },
  {
   "cell_type": "code",
   "execution_count": 27,
   "metadata": {},
   "outputs": [
    {
     "data": {
      "text/plain": [
       "0.9999999286469923"
      ]
     },
     "execution_count": 27,
     "metadata": {},
     "output_type": "execute_result"
    }
   ],
   "source": [
    "import numpy as np\n",
    "np.sum(score['instance_1']['grad_input_1'])"
   ]
  },
  {
   "cell_type": "code",
   "execution_count": 24,
   "metadata": {},
   "outputs": [
    {
     "data": {
      "text/plain": [
       "{'instance_1': {'grad_input_1': [0.019554242276329924,\n",
       "   0.031629949967782144,\n",
       "   0.04537333955553701,\n",
       "   0.08743691484631272,\n",
       "   0.05970915955821578,\n",
       "   0.08959340510057393,\n",
       "   0.015480757793992371,\n",
       "   0.12250431527413308,\n",
       "   0.11870338353631173,\n",
       "   0.10851477727578318,\n",
       "   0.14751446310743327,\n",
       "   0.11999824520257571,\n",
       "   0.03398711781695004]}}"
      ]
     },
     "execution_count": 24,
     "metadata": {},
     "output_type": "execute_result"
    }
   ],
   "source": [
    "score"
   ]
  },
  {
   "cell_type": "code",
   "execution_count": 34,
   "metadata": {},
   "outputs": [],
   "source": [
    "# from sklearn.feature_extraction.text import CountVectorizer\n",
    "# cv = CountVectorizer().fit([doc])\n",
    "# tokenizer = cv.build_tokenizer()\n",
    "# tokens = tokenizer(doc)\n",
    "# indices = [index for index, token in enumerate(tokens) if token.lower() in [word.lower() for word, _ in keywords]]"
   ]
  },
  {
   "cell_type": "code",
   "execution_count": null,
   "metadata": {},
   "outputs": [],
   "source": []
  }
 ],
 "metadata": {
  "kernelspec": {
   "display_name": "Python 3",
   "language": "python",
   "name": "python3"
  },
  "language_info": {
   "codemirror_mode": {
    "name": "ipython",
    "version": 3
   },
   "file_extension": ".py",
   "mimetype": "text/x-python",
   "name": "python",
   "nbconvert_exporter": "python",
   "pygments_lexer": "ipython3",
   "version": "3.6.9"
  }
 },
 "nbformat": 4,
 "nbformat_minor": 4
}
