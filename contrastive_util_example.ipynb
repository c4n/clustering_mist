{
 "cells": [
  {
   "cell_type": "code",
   "execution_count": 5,
   "metadata": {},
   "outputs": [],
   "source": [
    "import torch\n",
    "from torch.nn import functional as F"
   ]
  },
  {
   "cell_type": "code",
   "execution_count": 29,
   "metadata": {},
   "outputs": [],
   "source": [
    "# feat1 = torch.rand(256, 128)\n",
    "# feat2 = torch.rand(256, 128)\n",
    "\n",
    "feat1 = torch.arange(0,6)\n",
    "feat1 = feat1.reshape(2,3)\n",
    "\n",
    "feat2 = torch.arange(6,12)\n",
    "feat2 = feat2.reshape(2,3)"
   ]
  },
  {
   "cell_type": "code",
   "execution_count": 32,
   "metadata": {},
   "outputs": [],
   "source": [
    "features = torch.cat([feat1.unsqueeze(1), feat2.unsqueeze(1)], dim=1)"
   ]
  },
  {
   "cell_type": "code",
   "execution_count": 35,
   "metadata": {},
   "outputs": [
    {
     "data": {
      "text/plain": [
       "torch.Size([2, 2, 3])"
      ]
     },
     "execution_count": 35,
     "metadata": {},
     "output_type": "execute_result"
    }
   ],
   "source": [
    "features.shape"
   ]
  },
  {
   "cell_type": "code",
   "execution_count": 34,
   "metadata": {},
   "outputs": [
    {
     "data": {
      "text/plain": [
       "torch.Size([2, 1, 3])"
      ]
     },
     "execution_count": 34,
     "metadata": {},
     "output_type": "execute_result"
    }
   ],
   "source": [
    "feat1.unsqueeze(1).shape"
   ]
  },
  {
   "cell_type": "code",
   "execution_count": 30,
   "metadata": {},
   "outputs": [
    {
     "name": "stdout",
     "output_type": "stream",
     "text": [
      "tensor([[0, 1, 2],\n",
      "        [3, 4, 5]])\n",
      "tensor([[ 6,  7,  8],\n",
      "        [ 9, 10, 11]])\n"
     ]
    }
   ],
   "source": [
    "print(feat1)\n",
    "print(feat2)"
   ]
  },
  {
   "cell_type": "code",
   "execution_count": 33,
   "metadata": {},
   "outputs": [
    {
     "data": {
      "text/plain": [
       "tensor([[[ 0,  1,  2],\n",
       "         [ 6,  7,  8]],\n",
       "\n",
       "        [[ 3,  4,  5],\n",
       "         [ 9, 10, 11]]])"
      ]
     },
     "execution_count": 33,
     "metadata": {},
     "output_type": "execute_result"
    }
   ],
   "source": [
    "features"
   ]
  },
  {
   "cell_type": "code",
   "execution_count": 43,
   "metadata": {},
   "outputs": [
    {
     "data": {
      "text/plain": [
       "torch.Size([2, 2, 3])"
      ]
     },
     "execution_count": 43,
     "metadata": {},
     "output_type": "execute_result"
    }
   ],
   "source": [
    "features.shape"
   ]
  },
  {
   "cell_type": "code",
   "execution_count": 40,
   "metadata": {},
   "outputs": [],
   "source": [
    "contrast_feature = torch.cat(torch.unbind(features, dim=1), dim=0)"
   ]
  },
  {
   "cell_type": "code",
   "execution_count": 45,
   "metadata": {},
   "outputs": [
    {
     "data": {
      "text/plain": [
       "(tensor([[0, 1, 2],\n",
       "         [3, 4, 5]]),\n",
       " tensor([[ 6,  7,  8],\n",
       "         [ 9, 10, 11]]))"
      ]
     },
     "execution_count": 45,
     "metadata": {},
     "output_type": "execute_result"
    }
   ],
   "source": [
    "torch.unbind(features, dim=1)"
   ]
  },
  {
   "cell_type": "code",
   "execution_count": 44,
   "metadata": {},
   "outputs": [
    {
     "data": {
      "text/plain": [
       "tensor([[ 0,  1,  2],\n",
       "        [ 3,  4,  5],\n",
       "        [ 6,  7,  8],\n",
       "        [ 9, 10, 11]])"
      ]
     },
     "execution_count": 44,
     "metadata": {},
     "output_type": "execute_result"
    }
   ],
   "source": [
    "contrast_feature"
   ]
  },
  {
   "cell_type": "code",
   "execution_count": 62,
   "metadata": {},
   "outputs": [
    {
     "data": {
      "text/plain": [
       "tensor([[  5.,  14.,  23.,  32.],\n",
       "        [ 14.,  50.,  86., 122.],\n",
       "        [ 23.,  86., 149., 212.],\n",
       "        [ 32., 122., 212., 302.]])"
      ]
     },
     "execution_count": 62,
     "metadata": {},
     "output_type": "execute_result"
    }
   ],
   "source": [
    "anchor_feature = contrast_feature\n",
    "anchor_count = 2\n",
    "contrast_count = 2\n",
    "\n",
    "anchor_dot_contrast = torch.div(\n",
    "            torch.matmul(anchor_feature, contrast_feature.T),\n",
    "            1.0)\n",
    "\n",
    "anchor_dot_contrast"
   ]
  },
  {
   "cell_type": "code",
   "execution_count": 56,
   "metadata": {},
   "outputs": [
    {
     "data": {
      "text/plain": [
       "torch.Size([4, 1])"
      ]
     },
     "execution_count": 56,
     "metadata": {},
     "output_type": "execute_result"
    }
   ],
   "source": [
    "logits_max, _  = torch.max(anchor_dot_contrast, dim=1, keepdim=True)\n",
    "logits_max.shape"
   ]
  },
  {
   "cell_type": "code",
   "execution_count": 60,
   "metadata": {},
   "outputs": [
    {
     "name": "stdout",
     "output_type": "stream",
     "text": [
      "torch.Size([4, 4])\n",
      "tensor([[ -27.,  -18.,   -9.,    0.],\n",
      "        [-108.,  -72.,  -36.,    0.],\n",
      "        [-189., -126.,  -63.,    0.],\n",
      "        [-270., -180.,  -90.,    0.]])\n"
     ]
    }
   ],
   "source": [
    "logits = anchor_dot_contrast - logits_max.detach()\n",
    "print(logits.shape)\n",
    "print(logits)"
   ]
  },
  {
   "cell_type": "code",
   "execution_count": 63,
   "metadata": {},
   "outputs": [
    {
     "data": {
      "text/plain": [
       "tensor([[1., 0., 1., 0.],\n",
       "        [0., 1., 0., 1.],\n",
       "        [1., 0., 1., 0.],\n",
       "        [0., 1., 0., 1.]])"
      ]
     },
     "execution_count": 63,
     "metadata": {},
     "output_type": "execute_result"
    }
   ],
   "source": [
    "mask = mask.repeat(anchor_count, contrast_count)\n",
    "mask"
   ]
  },
  {
   "cell_type": "code",
   "execution_count": 74,
   "metadata": {},
   "outputs": [
    {
     "data": {
      "text/plain": [
       "tensor([[0., 1., 1., 1.],\n",
       "        [1., 0., 1., 1.],\n",
       "        [1., 1., 0., 1.],\n",
       "        [1., 1., 1., 0.]])"
      ]
     },
     "execution_count": 74,
     "metadata": {},
     "output_type": "execute_result"
    }
   ],
   "source": [
    "logits_mask = torch.scatter(\n",
    "    torch.ones_like(mask),\n",
    "    1,\n",
    "    torch.arange(2 * anchor_count).view(-1, 1),\n",
    "    0\n",
    ")\n",
    "logits_mask"
   ]
  },
  {
   "cell_type": "code",
   "execution_count": 66,
   "metadata": {},
   "outputs": [
    {
     "data": {
      "text/plain": [
       "tensor([[0., 0., 1., 0.],\n",
       "        [0., 0., 0., 1.],\n",
       "        [1., 0., 0., 0.],\n",
       "        [0., 1., 0., 0.]])"
      ]
     },
     "execution_count": 66,
     "metadata": {},
     "output_type": "execute_result"
    }
   ],
   "source": [
    "mask = mask * logits_mask\n",
    "mask"
   ]
  },
  {
   "cell_type": "code",
   "execution_count": 77,
   "metadata": {},
   "outputs": [
    {
     "data": {
      "text/plain": [
       "tensor([[1.8795e-12, 1.5230e-08, 1.2341e-04, 1.0000e+00],\n",
       "        [0.0000e+00, 5.3802e-32, 2.3195e-16, 1.0000e+00],\n",
       "        [0.0000e+00, 0.0000e+00, 4.3596e-28, 1.0000e+00],\n",
       "        [0.0000e+00, 0.0000e+00, 8.1940e-40, 1.0000e+00]])"
      ]
     },
     "execution_count": 77,
     "metadata": {},
     "output_type": "execute_result"
    }
   ],
   "source": [
    "torch.exp(logits)"
   ]
  },
  {
   "cell_type": "code",
   "execution_count": 68,
   "metadata": {},
   "outputs": [
    {
     "data": {
      "text/plain": [
       "tensor([[0.0000e+00, 1.5230e-08, 1.2341e-04, 1.0000e+00],\n",
       "        [0.0000e+00, 0.0000e+00, 2.3195e-16, 1.0000e+00],\n",
       "        [0.0000e+00, 0.0000e+00, 0.0000e+00, 1.0000e+00],\n",
       "        [0.0000e+00, 0.0000e+00, 8.1940e-40, 0.0000e+00]])"
      ]
     },
     "execution_count": 68,
     "metadata": {},
     "output_type": "execute_result"
    }
   ],
   "source": [
    "exp_logits = torch.exp(logits) * logits_mask\n",
    "exp_logits"
   ]
  },
  {
   "cell_type": "code",
   "execution_count": 81,
   "metadata": {},
   "outputs": [
    {
     "name": "stdout",
     "output_type": "stream",
     "text": [
      "tensor([[ 3],\n",
      "        [12]])\n",
      "tensor([[0, 1, 2],\n",
      "        [3, 4, 5]])\n"
     ]
    }
   ],
   "source": [
    "print(feat1.sum(1, keepdim=True))\n",
    "print(feat1)"
   ]
  },
  {
   "cell_type": "code",
   "execution_count": 75,
   "metadata": {},
   "outputs": [
    {
     "data": {
      "text/plain": [
       "tensor([[-2.7000e+01, -1.8000e+01, -9.0001e+00, -1.2337e-04],\n",
       "        [-1.0800e+02, -7.2000e+01, -3.6000e+01,  0.0000e+00],\n",
       "        [-1.8900e+02, -1.2600e+02, -6.3000e+01,  0.0000e+00],\n",
       "        [-1.8000e+02, -9.0000e+01,  0.0000e+00,  9.0000e+01]])"
      ]
     },
     "execution_count": 75,
     "metadata": {},
     "output_type": "execute_result"
    }
   ],
   "source": [
    "log_prob = logits - torch.log(exp_logits.sum(1, keepdim=True))\n",
    "log_prob"
   ]
  },
  {
   "cell_type": "code",
   "execution_count": 82,
   "metadata": {},
   "outputs": [
    {
     "data": {
      "text/plain": [
       "tensor([[  -0.0000,   -0.0000,   -9.0001,   -0.0000],\n",
       "        [  -0.0000,   -0.0000,   -0.0000,    0.0000],\n",
       "        [-189.0000,   -0.0000,   -0.0000,    0.0000],\n",
       "        [  -0.0000,  -90.0000,    0.0000,    0.0000]])"
      ]
     },
     "execution_count": 82,
     "metadata": {},
     "output_type": "execute_result"
    }
   ],
   "source": [
    "mask * log_prob"
   ]
  },
  {
   "cell_type": "code",
   "execution_count": 76,
   "metadata": {},
   "outputs": [
    {
     "data": {
      "text/plain": [
       "tensor([  -9.0001,    0.0000, -189.0000,  -90.0000])"
      ]
     },
     "execution_count": 76,
     "metadata": {},
     "output_type": "execute_result"
    }
   ],
   "source": [
    "mean_log_prob_pos = (mask * log_prob).sum(1) / mask.sum(1)\n",
    "mean_log_prob_pos"
   ]
  },
  {
   "cell_type": "code",
   "execution_count": 85,
   "metadata": {},
   "outputs": [
    {
     "data": {
      "text/plain": [
       "tensor([[1.],\n",
       "        [1.],\n",
       "        [1.],\n",
       "        [1.]])"
      ]
     },
     "execution_count": 85,
     "metadata": {},
     "output_type": "execute_result"
    }
   ],
   "source": [
    "mask.sum(1, keepdim=True)"
   ]
  },
  {
   "cell_type": "code",
   "execution_count": 111,
   "metadata": {},
   "outputs": [],
   "source": [
    "import os\n",
    "import pandas as pd\n",
    "import torch.utils.data as util_data\n",
    "from torch.utils.data import Dataset, random_split\n",
    "import math\n",
    "\n",
    "class AugmentPairSamples(Dataset):\n",
    "    def __init__(self, train_x_0, train_y, train_x_1 = None):\n",
    "        \n",
    "        if train_x_1 is not None:\n",
    "            assert len(train_y) == len(train_x_0) == len(train_x_1)\n",
    "        else:\n",
    "            assert len(train_y) == len(train_x_0)\n",
    "            \n",
    "        self.train_x_0 = train_x_0\n",
    "        self.train_x_1 = train_x_1\n",
    "        self.train_y = train_y                \n",
    "        \n",
    "        \n",
    "    def __len__(self):\n",
    "        return len(self.train_y)\n",
    "\n",
    "    def __getitem__(self, idx):\n",
    "        if self.train_x_1 is not None:\n",
    "            return {'text0': self.train_x_0[idx], 'text1': self.train_x_1[idx],'label': self.train_y[idx]}\n",
    "        else:\n",
    "            return {'text0': self.train_x_0[idx], 'label': self.train_y[idx]}\n",
    "\n",
    "datapath = './datasets/augmented/contextual_20/'\n",
    "dataname = 'stackoverflow'\n",
    "\n",
    "ratio = 0.8\n",
    "train_sample = math.ceil((len(train_dataset)*ratio))\n",
    "val_sample = math.ceil(len(train_dataset)*(1-ratio))\n",
    "\n",
    "train_data = pd.read_csv(os.path.join(datapath, dataname))\n",
    "\n",
    "train_text_0 = train_data['text0'].fillna('.').values\n",
    "train_text_1 = train_data['text1'].fillna('.').values\n",
    "train_label = train_data['label'].astype(int).values\n",
    "\n",
    "all_dataset = AugmentPairSamples(train_text_0, train_label, train_text_1)\n",
    "train_dataset, val_dataset = random_split(all_dataset, [train_sample, val_sample],\n",
    "                                          generator=torch.Generator().manual_seed(42))\n",
    "\n",
    "train_loader = util_data.DataLoader(train_dataset, batch_size=256, shuffle=True, num_workers=4)\n",
    "val_loader = util_data.DataLoader(train_dataset, batch_size=256, shuffle=True, num_workers=4)\n"
   ]
  },
  {
   "cell_type": "code",
   "execution_count": 115,
   "metadata": {},
   "outputs": [],
   "source": [
    "\n",
    "\n",
    "train_dataset, val_dataset = random_split(train_dataset, [math.ceil((len(train_dataset)*ratio)) , math.ceil(len(train_dataset)*(1-ratio))], generator=torch.Generator().manual_seed(42))"
   ]
  },
  {
   "cell_type": "code",
   "execution_count": 116,
   "metadata": {},
   "outputs": [
    {
     "data": {
      "text/plain": [
       "16000"
      ]
     },
     "execution_count": 116,
     "metadata": {},
     "output_type": "execute_result"
    }
   ],
   "source": [
    "len(train_dataset)"
   ]
  },
  {
   "cell_type": "code",
   "execution_count": 118,
   "metadata": {},
   "outputs": [
    {
     "data": {
      "text/plain": [
       "4000"
      ]
     },
     "execution_count": 118,
     "metadata": {},
     "output_type": "execute_result"
    }
   ],
   "source": [
    "len(val_dataset)"
   ]
  },
  {
   "cell_type": "code",
   "execution_count": 119,
   "metadata": {},
   "outputs": [
    {
     "data": {
      "text/plain": [
       "{'text0': 'Hibernate One-to-Many cascade efficiency',\n",
       " 'text1': 'hibernate : - infinitely - many cascade efficiency',\n",
       " 'label': 12}"
      ]
     },
     "execution_count": 119,
     "metadata": {},
     "output_type": "execute_result"
    }
   ],
   "source": [
    "val_dataset[0]"
   ]
  },
  {
   "cell_type": "code",
   "execution_count": null,
   "metadata": {},
   "outputs": [],
   "source": []
  }
 ],
 "metadata": {
  "kernelspec": {
   "display_name": "Python 3",
   "language": "python",
   "name": "python3"
  },
  "language_info": {
   "codemirror_mode": {
    "name": "ipython",
    "version": 3
   },
   "file_extension": ".py",
   "mimetype": "text/x-python",
   "name": "python",
   "nbconvert_exporter": "python",
   "pygments_lexer": "ipython3",
   "version": "3.6.9"
  }
 },
 "nbformat": 4,
 "nbformat_minor": 4
}
